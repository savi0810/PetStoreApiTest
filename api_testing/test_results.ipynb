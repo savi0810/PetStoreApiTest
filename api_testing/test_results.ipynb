{
 "cells": [
  {
   "cell_type": "code",
   "execution_count": 2,
   "id": "2b004432",
   "metadata": {},
   "outputs": [
    {
     "name": "stdout",
     "output_type": "stream",
     "text": [
      "\u001b[1m============================= test session starts =============================\u001b[0m\n",
      "platform win32 -- Python 3.12.4, pytest-8.4.1, pluggy-1.6.0 -- C:\\Users\\Александр\\AppData\\Local\\Programs\\Python\\Python312\\python.exe\n",
      "cachedir: .pytest_cache\n",
      "rootdir: c:\\Users\\Александр\\Documents\\тестирование\\api_testing\\api_testing\n",
      "\u001b[1mcollecting ... \u001b[0mcollected 9 items\n",
      "\n",
      "test_store.py::TestStore::test_get_store_inventory \u001b[32mPASSED\u001b[0m\u001b[32m                [ 11%]\u001b[0m\n",
      "test_store.py::TestStore::test_create_order \u001b[32mPASSED\u001b[0m\u001b[32m                       [ 22%]\u001b[0m\n",
      "test_store.py::TestStore::test_get_order_after_creation \u001b[31mFAILED\u001b[0m\u001b[31m           [ 33%]\u001b[0m\n",
      "test_store.py::TestStore::test_delete_order \u001b[31mFAILED\u001b[0m\u001b[31m                       [ 44%]\u001b[0m\n",
      "test_store.py::TestStore::test_create_different_orders[order_data0] \u001b[32mPASSED\u001b[0m\u001b[31m [ 55%]\u001b[0m\n",
      "test_store.py::TestStore::test_create_different_orders[order_data1] \u001b[32mPASSED\u001b[0m\u001b[31m [ 66%]\u001b[0m\n",
      "test_store.py::TestStore::test_get_invalid_orders[-1-404] \u001b[32mPASSED\u001b[0m\u001b[31m         [ 77%]\u001b[0m\n",
      "test_store.py::TestStore::test_get_invalid_orders[0-404] \u001b[32mPASSED\u001b[0m\u001b[31m          [ 88%]\u001b[0m\n",
      "test_store.py::TestStore::test_get_invalid_orders[999999-404] \u001b[32mPASSED\u001b[0m\u001b[31m     [100%]\u001b[0m\n",
      "\n",
      "================================== FAILURES ===================================\n",
      "\u001b[31m\u001b[1m___________________ TestStore.test_get_order_after_creation ___________________\u001b[0m\n",
      "\n",
      "self = <test_store.TestStore object at 0x000002317FEA6510>\n",
      "created_order = {'complete': True, 'id': 1521, 'petId': 1, 'quantity': 1, ...}\n",
      "\n",
      "    \u001b[0m\u001b[94mdef\u001b[39;49;00m\u001b[90m \u001b[39;49;00m\u001b[92mtest_get_order_after_creation\u001b[39;49;00m(\u001b[96mself\u001b[39;49;00m, created_order):\u001b[90m\u001b[39;49;00m\n",
      "        response = requests.get(\u001b[33mf\u001b[39;49;00m\u001b[33m'\u001b[39;49;00m\u001b[33m{\u001b[39;49;00mBASE_URL_PETSTORE\u001b[33m}\u001b[39;49;00m\u001b[33m/store/order/\u001b[39;49;00m\u001b[33m{\u001b[39;49;00mcreated_order[\u001b[33m\"\u001b[39;49;00m\u001b[33mid\u001b[39;49;00m\u001b[33m\"\u001b[39;49;00m]\u001b[33m}\u001b[39;49;00m\u001b[33m'\u001b[39;49;00m)\u001b[90m\u001b[39;49;00m\n",
      ">       \u001b[94massert\u001b[39;49;00m response.status_code == \u001b[94m200\u001b[39;49;00m\u001b[90m\u001b[39;49;00m\n",
      "\u001b[1m\u001b[31mE       assert 404 == 200\u001b[0m\n",
      "\u001b[1m\u001b[31mE        +  where 404 = <Response [404]>.status_code\u001b[0m\n",
      "\n",
      "\u001b[1m\u001b[31mtest_store.py\u001b[0m:51: AssertionError\n",
      "\u001b[31m\u001b[1m_________________________ TestStore.test_delete_order _________________________\u001b[0m\n",
      "\n",
      "self = <test_store.TestStore object at 0x000002317FEA64E0>\n",
      "created_order = {'complete': True, 'id': 1521, 'petId': 1, 'quantity': 1, ...}\n",
      "\n",
      "    \u001b[0m\u001b[94mdef\u001b[39;49;00m\u001b[90m \u001b[39;49;00m\u001b[92mtest_delete_order\u001b[39;49;00m(\u001b[96mself\u001b[39;49;00m, created_order):\u001b[90m\u001b[39;49;00m\n",
      "        response = requests.delete(\u001b[33mf\u001b[39;49;00m\u001b[33m'\u001b[39;49;00m\u001b[33m{\u001b[39;49;00mBASE_URL_PETSTORE\u001b[33m}\u001b[39;49;00m\u001b[33m/store/order/\u001b[39;49;00m\u001b[33m{\u001b[39;49;00mcreated_order[\u001b[33m\"\u001b[39;49;00m\u001b[33mid\u001b[39;49;00m\u001b[33m\"\u001b[39;49;00m]\u001b[33m}\u001b[39;49;00m\u001b[33m'\u001b[39;49;00m)\u001b[90m\u001b[39;49;00m\n",
      ">       \u001b[94massert\u001b[39;49;00m response.status_code == \u001b[94m200\u001b[39;49;00m\u001b[90m\u001b[39;49;00m\n",
      "\u001b[1m\u001b[31mE       assert 404 == 200\u001b[0m\n",
      "\u001b[1m\u001b[31mE        +  where 404 = <Response [404]>.status_code\u001b[0m\n",
      "\n",
      "\u001b[1m\u001b[31mtest_store.py\u001b[0m:62: AssertionError\n",
      "\u001b[36m\u001b[1m=========================== short test summary info ===========================\u001b[0m\n",
      "\u001b[31mFAILED\u001b[0m test_store.py::\u001b[1mTestStore::test_get_order_after_creation\u001b[0m - assert 404 == 200\n",
      "\u001b[31mFAILED\u001b[0m test_store.py::\u001b[1mTestStore::test_delete_order\u001b[0m - assert 404 == 200\n",
      "\u001b[31m======================== \u001b[31m\u001b[1m2 failed\u001b[0m, \u001b[32m7 passed\u001b[0m\u001b[31m in 11.49s\u001b[0m\u001b[31m =========================\u001b[0m\n"
     ]
    }
   ],
   "source": [
    "!pytest test_store.py -v"
   ]
  },
  {
   "cell_type": "code",
   "execution_count": 3,
   "id": "fca34647",
   "metadata": {},
   "outputs": [
    {
     "name": "stdout",
     "output_type": "stream",
     "text": [
      "\u001b[1m============================= test session starts =============================\u001b[0m\n",
      "platform win32 -- Python 3.12.4, pytest-8.4.1, pluggy-1.6.0 -- C:\\Users\\Александр\\AppData\\Local\\Programs\\Python\\Python312\\python.exe\n",
      "cachedir: .pytest_cache\n",
      "rootdir: c:\\Users\\Александр\\Documents\\тестирование\\api_testing\\api_testing\n",
      "\u001b[1mcollecting ... \u001b[0mcollected 9 items\n",
      "\n",
      "test_user.py::TestUser::test_get_nonexistent_user \u001b[31mFAILED\u001b[0m\u001b[31m                 [ 11%]\u001b[0m\n",
      "test_user.py::TestUser::test_create_user \u001b[32mPASSED\u001b[0m\u001b[31m                          [ 22%]\u001b[0m\n",
      "test_user.py::TestUser::test_get_user_after_creation \u001b[32mPASSED\u001b[0m\u001b[31m              [ 33%]\u001b[0m\n",
      "test_user.py::TestUser::test_delete_user \u001b[32mPASSED\u001b[0m\u001b[31m                          [ 44%]\u001b[0m\n",
      "test_user.py::TestUser::test_create_different_users[user_data0] \u001b[32mPASSED\u001b[0m\u001b[31m   [ 55%]\u001b[0m\n",
      "test_user.py::TestUser::test_create_different_users[user_data1] \u001b[32mPASSED\u001b[0m\u001b[31m   [ 66%]\u001b[0m\n",
      "test_user.py::TestUser::test_get_invalid_users[dddd-404] \u001b[32mPASSED\u001b[0m\u001b[31m          [ 77%]\u001b[0m\n",
      "test_user.py::TestUser::test_get_invalid_users[ggg-404] \u001b[32mPASSED\u001b[0m\u001b[31m           [ 88%]\u001b[0m\n",
      "test_user.py::TestUser::test_get_invalid_users[Vasya-404] \u001b[32mPASSED\u001b[0m\u001b[31m         [100%]\u001b[0m\n",
      "\n",
      "================================== FAILURES ===================================\n",
      "\u001b[31m\u001b[1m_____________________ TestUser.test_get_nonexistent_user ______________________\u001b[0m\n",
      "\n",
      "self = <test_user.TestUser object at 0x000002A1AF2CBB30>\n",
      "\n",
      "    \u001b[0m\u001b[94mdef\u001b[39;49;00m\u001b[90m \u001b[39;49;00m\u001b[92mtest_get_nonexistent_user\u001b[39;49;00m(\u001b[96mself\u001b[39;49;00m):\u001b[90m\u001b[39;49;00m\n",
      "        response = requests.get(\u001b[33mf\u001b[39;49;00m\u001b[33m'\u001b[39;49;00m\u001b[33m{\u001b[39;49;00mBASE_URL_PETSTORE\u001b[33m}\u001b[39;49;00m\u001b[33m/user/testuser1135\u001b[39;49;00m\u001b[33m'\u001b[39;49;00m)\u001b[90m\u001b[39;49;00m\n",
      ">       \u001b[94massert\u001b[39;49;00m response.status_code == \u001b[94m404\u001b[39;49;00m\u001b[90m\u001b[39;49;00m\n",
      "\u001b[1m\u001b[31mE       assert 200 == 404\u001b[0m\n",
      "\u001b[1m\u001b[31mE        +  where 200 = <Response [200]>.status_code\u001b[0m\n",
      "\n",
      "\u001b[1m\u001b[31mtest_user.py\u001b[0m:31: AssertionError\n",
      "\u001b[36m\u001b[1m=========================== short test summary info ===========================\u001b[0m\n",
      "\u001b[31mFAILED\u001b[0m test_user.py::\u001b[1mTestUser::test_get_nonexistent_user\u001b[0m - assert 200 == 404\n",
      "\u001b[31m======================== \u001b[31m\u001b[1m1 failed\u001b[0m, \u001b[32m8 passed\u001b[0m\u001b[31m in 11.99s\u001b[0m\u001b[31m =========================\u001b[0m\n"
     ]
    }
   ],
   "source": [
    "!pytest test_user.py -v\n"
   ]
  }
 ],
 "metadata": {
  "kernelspec": {
   "display_name": "Python 3",
   "language": "python",
   "name": "python3"
  },
  "language_info": {
   "codemirror_mode": {
    "name": "ipython",
    "version": 3
   },
   "file_extension": ".py",
   "mimetype": "text/x-python",
   "name": "python",
   "nbconvert_exporter": "python",
   "pygments_lexer": "ipython3",
   "version": "3.12.4"
  }
 },
 "nbformat": 4,
 "nbformat_minor": 5
}
